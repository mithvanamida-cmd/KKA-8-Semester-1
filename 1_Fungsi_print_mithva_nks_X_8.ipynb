{
  "nbformat": 4,
  "nbformat_minor": 0,
  "metadata": {
    "colab": {
      "provenance": [],
      "authorship_tag": "ABX9TyM/tDVqGmA+FMI0lpsrLfVo",
      "include_colab_link": true
    },
    "kernelspec": {
      "name": "python3",
      "display_name": "Python 3"
    },
    "language_info": {
      "name": "python"
    }
  },
  "cells": [
    {
      "cell_type": "markdown",
      "metadata": {
        "id": "view-in-github",
        "colab_type": "text"
      },
      "source": [
        "<a href=\"https://colab.research.google.com/github/mithvanamida-cmd/KKA-8-Semester-1/blob/main/1_Fungsi_print_mithva_nks_X_8.ipynb\" target=\"_parent\"><img src=\"https://colab.research.google.com/assets/colab-badge.svg\" alt=\"Open In Colab\"/></a>"
      ]
    },
    {
      "cell_type": "markdown",
      "source": [
        "Nama: Mithva namida kaulika.s.\n",
        "\n",
        "\n",
        "Kelas: X-8\n",
        "\n",
        "\n",
        "No: 18"
      ],
      "metadata": {
        "id": "RG-5RrlidtZx"
      }
    },
    {
      "cell_type": "markdown",
      "source": [
        "#menampilkam teks bebas"
      ],
      "metadata": {
        "id": "PNGXBj65flPm"
      }
    },
    {
      "cell_type": "code",
      "execution_count": null,
      "metadata": {
        "id": "_jgl7eyjdFic",
        "colab": {
          "base_uri": "https://localhost:8080/"
        },
        "outputId": "c6792280-7d30-4022-8b60-f01aabcb2927"
      },
      "outputs": [
        {
          "output_type": "stream",
          "name": "stdout",
          "text": [
            "Helo dunia\n"
          ]
        }
      ],
      "source": [
        "print ( \"Helo dunia\" )"
      ]
    },
    {
      "cell_type": "markdown",
      "source": [
        "#menampilkan teks bebas"
      ],
      "metadata": {
        "id": "UvWcTqK_gg4_"
      }
    },
    {
      "cell_type": "code",
      "source": [
        " print(\" mithva namida kaulika.s.\")"
      ],
      "metadata": {
        "colab": {
          "base_uri": "https://localhost:8080/"
        },
        "id": "ykAca6SShVN-",
        "outputId": "b69a63cc-af85-4ebf-86f1-e92743da4ba1"
      },
      "execution_count": null,
      "outputs": [
        {
          "output_type": "stream",
          "name": "stdout",
          "text": [
            " mithva namida kaulika.s.\n"
          ]
        }
      ]
    },
    {
      "cell_type": "markdown",
      "source": [
        "#menampilkan nilai variabel"
      ],
      "metadata": {
        "id": "vLWHnYuZiE3K"
      }
    },
    {
      "cell_type": "code",
      "source": [
        "usia = 15\n",
        "\n",
        "print(usia)"
      ],
      "metadata": {
        "colab": {
          "base_uri": "https://localhost:8080/"
        },
        "id": "DpnIqhgNiQvZ",
        "outputId": "9e92724f-ae1f-42a3-f539-bdbfcf504d8c"
      },
      "execution_count": null,
      "outputs": [
        {
          "output_type": "stream",
          "name": "stdout",
          "text": [
            "15\n"
          ]
        }
      ]
    },
    {
      "cell_type": "code",
      "source": [
        "nama =\"mithva namida kaulika.s.\"\n",
        "\n",
        "print(nama)"
      ],
      "metadata": {
        "colab": {
          "base_uri": "https://localhost:8080/"
        },
        "id": "JF4pFfbTjLjq",
        "outputId": "e87b2d25-0eff-40cd-b604-9b81602a26f1"
      },
      "execution_count": null,
      "outputs": [
        {
          "output_type": "stream",
          "name": "stdout",
          "text": [
            "mithva namida kaulika.s.\n"
          ]
        }
      ]
    },
    {
      "cell_type": "code",
      "source": [
        "bb = \"43\"\n",
        "print(bb)"
      ],
      "metadata": {
        "colab": {
          "base_uri": "https://localhost:8080/"
        },
        "id": "AYEL4I2gkAFR",
        "outputId": "98dacb21-1d89-46de-882c-2ab358f90830"
      },
      "execution_count": null,
      "outputs": [
        {
          "output_type": "stream",
          "name": "stdout",
          "text": [
            "43\n"
          ]
        }
      ]
    },
    {
      "cell_type": "code",
      "source": [],
      "metadata": {
        "id": "mWCU3Cf9m4tD"
      },
      "execution_count": null,
      "outputs": []
    },
    {
      "cell_type": "markdown",
      "source": [
        "#menampilkan teks bebas dan nilai variabel"
      ],
      "metadata": {
        "id": "Jo4vNTd4lHwv"
      }
    },
    {
      "cell_type": "code",
      "source": [
        "print(f\"perkenalkan nama saya {nama}.\")"
      ],
      "metadata": {
        "colab": {
          "base_uri": "https://localhost:8080/"
        },
        "id": "djWcDmsakg_g",
        "outputId": "89a249d0-0846-4034-9f13-a41801a35067"
      },
      "execution_count": null,
      "outputs": [
        {
          "output_type": "stream",
          "name": "stdout",
          "text": [
            "perkenalkan nama saya mithva namida kaulika.s..\n"
          ]
        }
      ]
    },
    {
      "cell_type": "code",
      "source": [
        "print(f\"berat badan saya {bb}kg.\")"
      ],
      "metadata": {
        "colab": {
          "base_uri": "https://localhost:8080/"
        },
        "id": "OFC195Itl6JM",
        "outputId": "7024d394-ad06-4a20-d043-e8ae692e7696"
      },
      "execution_count": null,
      "outputs": [
        {
          "output_type": "stream",
          "name": "stdout",
          "text": [
            "berat badan saya 43kg.\n"
          ]
        }
      ]
    },
    {
      "cell_type": "code",
      "source": [
        "print(\"perkenalkan nama saya \" + nama)"
      ],
      "metadata": {
        "colab": {
          "base_uri": "https://localhost:8080/"
        },
        "id": "0_fqpfdPm66K",
        "outputId": "734798c4-ec5e-4cc6-e6b6-093b9dede6f1"
      },
      "execution_count": null,
      "outputs": [
        {
          "output_type": "stream",
          "name": "stdout",
          "text": [
            "perkenalkan nama saya mithva namida kaulika.s.\n"
          ]
        }
      ]
    },
    {
      "cell_type": "code",
      "source": [
        "print(\"berat badan saya \" + bb + \" kg.\")"
      ],
      "metadata": {
        "colab": {
          "base_uri": "https://localhost:8080/"
        },
        "id": "7ToBzSFmnWoV",
        "outputId": "69751b60-b15b-499f-b7d6-f0fbf8740c98"
      },
      "execution_count": null,
      "outputs": [
        {
          "output_type": "stream",
          "name": "stdout",
          "text": [
            "berat badan saya 43 kg.\n"
          ]
        }
      ]
    },
    {
      "cell_type": "code",
      "source": [
        "print ( \"berat badan saya\"  , bb ,  \"kg.\" )"
      ],
      "metadata": {
        "colab": {
          "base_uri": "https://localhost:8080/"
        },
        "id": "Hd0v1DfpobG_",
        "outputId": "ef0712d0-d03e-4c32-c0e2-6cb2308f38dd"
      },
      "execution_count": null,
      "outputs": [
        {
          "output_type": "stream",
          "name": "stdout",
          "text": [
            "berat badan saya 43  kg.\n"
          ]
        }
      ]
    },
    {
      "cell_type": "markdown",
      "source": [
        "#Escape Character"
      ],
      "metadata": {
        "id": "qABUuoYltpDX"
      }
    },
    {
      "cell_type": "code",
      "source": [
        "print (   \"nama: mithva namida kaulika.s.\\nkelas:X.8\\nno.abs   en:18) \"   )"
      ],
      "metadata": {
        "colab": {
          "base_uri": "https://localhost:8080/"
        },
        "id": "8hGGVdf9hWDi",
        "outputId": "1acafd7d-e7cb-4a8f-f510-c58fe13fdc68"
      },
      "execution_count": null,
      "outputs": [
        {
          "output_type": "stream",
          "name": "stdout",
          "text": [
            "nama: mithva namida kaulika.s.\n",
            "kelas:X.8\n",
            "no.absen: 18) \n"
          ]
        }
      ]
    },
    {
      "cell_type": "code",
      "source": [
        "print ( \"\"\"nama\\t\\t: mithva namida kaulika.s.\\nkelas\\t\\t:X .8\\nno.absen\\t: 18) \"\"\" )"
      ],
      "metadata": {
        "colab": {
          "base_uri": "https://localhost:8080/"
        },
        "id": "nmvowxCWlSkn",
        "outputId": "11a2b99e-6705-4b0c-a57b-12d1f2116fb9"
      },
      "execution_count": null,
      "outputs": [
        {
          "output_type": "stream",
          "name": "stdout",
          "text": [
            "nama\t\t: mithva namida kaulika.s.\n",
            "kelas\t\t:X.8\n",
            "no.absen\t: 18) \n"
          ]
        }
      ]
    },
    {
      "cell_type": "code",
      "source": [
        "print(\"nama: ja'far shodiq\\nkelas: X.8\\nno. absen:18\")"
      ],
      "metadata": {
        "colab": {
          "base_uri": "https://localhost:8080/"
        },
        "id": "Uu1tT2bWlhBZ",
        "outputId": "c4f33b5d-7793-4f6c-b645-3814aded2f1a"
      },
      "execution_count": null,
      "outputs": [
        {
          "output_type": "stream",
          "name": "stdout",
          "text": [
            "nama: ja'far shodiq\n",
            "kelas: X.8\n",
            "no. absen:18\n"
          ]
        }
      ]
    },
    {
      "cell_type": "code",
      "source": [
        "print ( 'nama: ja\\'far shodiq\\nkelas: X.8\\nno.absen: 18' )"
      ],
      "metadata": {
        "colab": {
          "base_uri": "https://localhost:8080/"
        },
        "id": "C55PxM6AmcEi",
        "outputId": "a8da750c-274d-4c76-b608-05af551a90c9"
      },
      "execution_count": null,
      "outputs": [
        {
          "output_type": "stream",
          "name": "stdout",
          "text": [
            "nama: ja'far shodiq\n",
            "kelas: X.8\n",
            "no. absen: 18\n"
          ]
        }
      ]
    },
    {
      "cell_type": "code",
      "source": [
        "print ( \"lokasi file tugas kka: disk lokal c:\\\\kka\\tugas m ithva\" )"
      ],
      "metadata": {
        "colab": {
          "base_uri": "https://localhost:8080/"
        },
        "id": "EYo4DK6xm0Hs",
        "outputId": "e20d12c0-4ba4-4e0c-cf73-d8a35b2ad768"
      },
      "execution_count": null,
      "outputs": [
        {
          "output_type": "stream",
          "name": "stdout",
          "text": [
            "lokasi file tugas kka: local disk c:\\kka\tugas mithva\n"
          ]
        }
      ]
    },
    {
      "cell_type": "markdown",
      "source": [
        "#parameter fungsi print()"
      ],
      "metadata": {
        "id": "JxtyrolBq45g"
      }
    },
    {
      "cell_type": "code",
      "source": [
        "nama_depan =   \"mithva\"\n",
        "nama_belakang =   \"mitpa \"\n",
        "\n",
        "print (nama_depan, end=  \" \"  )\n",
        "print (nama_belakang)"
      ],
      "metadata": {
        "colab": {
          "base_uri": "https://localhost:8080/"
        },
        "id": "ilST--NgrfYC",
        "outputId": "e50ed4eb-38c9-4db9-bfa3-b7016e8f5d8b"
      },
      "execution_count": null,
      "outputs": [
        {
          "output_type": "stream",
          "name": "stdout",
          "text": [
            "mithva mitpa \n"
          ]
        }
      ]
    },
    {
      "cell_type": "code",
      "source": [
        "nama_siswa_1 = \"dinda\"\n",
        "nama_siswa_2 = \"aurin\"\n",
        "nama_siswa_3 = \"lisaan\"\n",
        "print(nama_siswa_3, nama_siswa_2, nama_siswa_3, nama_siswa_1, sep='/')"
      ],
      "metadata": {
        "colab": {
          "base_uri": "https://localhost:8080/"
        },
        "id": "rP8yAI00j_SA",
        "outputId": "cf78dc1f-a7a1-4f92-f35d-c733070001c9"
      },
      "execution_count": null,
      "outputs": [
        {
          "output_type": "stream",
          "name": "stdout",
          "text": [
            "lisaan/aurin/lisaan/dinda\n"
          ]
        }
      ]
    },
    {
      "cell_type": "code",
      "source": [
        "nama_siswa_4 = \"azkal\"\n",
        "nama_siswa_5 = \"hasim\"\n",
        "nama_siswa_6 = \"chilmi\"\n",
        "nama_siswa_7 = \"nova\"\n",
        "\n",
        "print(nama_siswa_6, end=\"-\")\n",
        "print(nama_siswa_4,)\n",
        "print(nama_siswa_5, end=\"-\")\n",
        "print(nama_siswa_7)\n",
        "print(nama_siswa_4, end=\"/\")\n",
        "print(nama_siswa_7, end=\"&\")\n",
        "print(nama_siswa_5)"
      ],
      "metadata": {
        "colab": {
          "base_uri": "https://localhost:8080/"
        },
        "id": "XitjHZCGk_In",
        "outputId": "a746b152-4016-4d73-b33f-819576f5ce70"
      },
      "execution_count": null,
      "outputs": [
        {
          "output_type": "stream",
          "name": "stdout",
          "text": [
            "chilmi-azkal\n",
            "hasim-nova\n",
            "azkal/nova&hasim\n"
          ]
        }
      ]
    },
    {
      "cell_type": "code",
      "source": [],
      "metadata": {
        "id": "Sbxv4tE_p8Xt"
      },
      "execution_count": null,
      "outputs": []
    }
  ]
}